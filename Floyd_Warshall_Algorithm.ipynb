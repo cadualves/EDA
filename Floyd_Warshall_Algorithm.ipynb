{
  "nbformat": 4,
  "nbformat_minor": 0,
  "metadata": {
    "colab": {
      "name": "Floyd Warshall Algorithm.ipynb",
      "version": "0.3.2",
      "provenance": [],
      "include_colab_link": true
    },
    "kernelspec": {
      "name": "python3",
      "display_name": "Python 3"
    }
  },
  "cells": [
    {
      "cell_type": "markdown",
      "metadata": {
        "id": "view-in-github",
        "colab_type": "text"
      },
      "source": [
        "<a href=\"https://colab.research.google.com/github/cadualves/EDA/blob/master/Floyd_Warshall_Algorithm.ipynb\" target=\"_parent\"><img src=\"https://colab.research.google.com/assets/colab-badge.svg\" alt=\"Open In Colab\"/></a>"
      ]
    },
    {
      "cell_type": "code",
      "metadata": {
        "id": "8JIi0Y9r7zzD",
        "colab_type": "code",
        "colab": {}
      },
      "source": [
        "def FW(G):\n",
        "  v = len(G)\n",
        "  dist = [[float(\"inf\")]*v for i in range(v)]\n",
        "  for i in range(v):\n",
        "    dist[i][i]=0\n",
        "  for key,value in G.items():\n",
        "    for valuekey,valuevalue in value.items():\n",
        "      #abaixo tem que colocar menos 1 pois os itens não começam em 0\n",
        "      if valuekey != float(\"inf\"):\n",
        "         dist[key-1][valuekey-1]=valuevalue\n",
        "  for k in range(v):\n",
        "    for i in range(v):\n",
        "      for j in range(v):\n",
        "        if dist[i][j]>dist[i][k]+dist[k][j]:\n",
        "          dist[i][j]=dist[i][k]+dist[k][j]\n",
        "  return dist\n",
        "  \n",
        "  "
      ],
      "execution_count": 0,
      "outputs": []
    },
    {
      "cell_type": "code",
      "metadata": {
        "id": "kLW_0c9S84E7",
        "colab_type": "code",
        "colab": {}
      },
      "source": [
        "# vai de 1 até 3 com peso -2 {nó de onde vai:{nó que chega:peso}}\n",
        "G={1:{3:-2},2:{1:4,3:3},3:{4:2},4:{2:-1}}"
      ],
      "execution_count": 0,
      "outputs": []
    },
    {
      "cell_type": "code",
      "metadata": {
        "id": "Esto9MAH9dP1",
        "colab_type": "code",
        "colab": {
          "base_uri": "https://localhost:8080/",
          "height": 34
        },
        "outputId": "93dd863f-b11b-415a-ee8d-4164bb512baf"
      },
      "source": [
        "FW(G)"
      ],
      "execution_count": 50,
      "outputs": [
        {
          "output_type": "execute_result",
          "data": {
            "text/plain": [
              "[[0, -1, -2, 0], [4, 0, 2, 4], [5, 1, 0, 2], [3, -1, 1, 0]]"
            ]
          },
          "metadata": {
            "tags": []
          },
          "execution_count": 50
        }
      ]
    },
    {
      "cell_type": "code",
      "metadata": {
        "id": "q-LOikZvDgyj",
        "colab_type": "code",
        "colab": {}
      },
      "source": [
        "G1={1:{2:99},2:{float(\"inf\"):float(\"inf\")},3:{2:10,1:-99},4:{3:99,1:10}}"
      ],
      "execution_count": 0,
      "outputs": []
    },
    {
      "cell_type": "code",
      "metadata": {
        "id": "HVOXab75EHzy",
        "colab_type": "code",
        "colab": {
          "base_uri": "https://localhost:8080/",
          "height": 34
        },
        "outputId": "bc45610a-d929-48c2-d540-5dfd85c703d6"
      },
      "source": [
        "FW(G1)"
      ],
      "execution_count": 52,
      "outputs": [
        {
          "output_type": "execute_result",
          "data": {
            "text/plain": [
              "[[0, 99, inf, inf], [inf, 0, inf, inf], [-99, 0, 0, inf], [0, 99, 99, 0]]"
            ]
          },
          "metadata": {
            "tags": []
          },
          "execution_count": 52
        }
      ]
    },
    {
      "cell_type": "code",
      "metadata": {
        "id": "RFu0Nc83EJbv",
        "colab_type": "code",
        "colab": {}
      },
      "source": [
        ""
      ],
      "execution_count": 0,
      "outputs": []
    }
  ]
}